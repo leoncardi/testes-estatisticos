{
 "cells": [
  {
   "cell_type": "code",
   "execution_count": null,
   "metadata": {},
   "outputs": [],
   "source": [
    "import numpy as np\n",
    "import scipy.stats as stats\n",
    "import matplotlib.pyplot as plt\n",
    "\n",
    "# Gerar dados fictícios de vendas\n",
    "np.random.seed(42)\n",
    "vendas = np.random.normal(100, 15, 1000)\n",
    "\n",
    "# Realizar teste de normalidade de Shapiro-Wilk\n",
    "stat, p = stats.shapiro(vendas)\n",
    "\n",
    "# Imprimir resultados\n",
    "print(\"Teste de normalidade de Shapiro-Wilk\")\n",
    "print(\"Estatística:\", stat)\n",
    "print(\"p-valor:\", p)\n",
    "\n",
    "# Plotar histograma e curva normal\n",
    "plt.hist(vendas, bins=30, density=True, alpha=0.6, color='b')\n",
    "x = np.linspace(np.min(vendas), np.max(vendas), 100)\n",
    "y = stats.norm.pdf(x, np.mean(vendas), np.std(vendas))\n",
    "plt.plot(x, y, 'r', linewidth=2)\n",
    "plt.xlabel(\"Vendas\")\n",
    "plt.ylabel(\"Densidade\")\n",
    "plt.title(\"Histograma de vendas e curva normal\")\n",
    "plt.show()\n"
   ]
  }
 ],
 "metadata": {
  "language_info": {
   "name": "python"
  },
  "orig_nbformat": 4
 },
 "nbformat": 4,
 "nbformat_minor": 2
}
